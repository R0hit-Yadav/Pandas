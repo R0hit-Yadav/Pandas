{
 "cells": [
  {
   "cell_type": "code",
   "execution_count": null,
   "id": "b4958e47-4f92-41b0-9968-9df2ee13c3ac",
   "metadata": {},
   "outputs": [],
   "source": [
    "import numpy as np\n",
    "import pandas as pd\n"
   ]
  },
  {
   "cell_type": "code",
   "execution_count": 2,
   "id": "e28d7e99-85f4-428a-bde2-2a5358485146",
   "metadata": {},
   "outputs": [
    {
     "data": {
      "text/plain": [
       "0    rohit\n",
       "1      jay\n",
       "2      dev\n",
       "3    urval\n",
       "4    parth\n",
       "dtype: object"
      ]
     },
     "execution_count": 2,
     "metadata": {},
     "output_type": "execute_result"
    }
   ],
   "source": [
    "names =['rohit','jay','dev','urval','parth']\n",
    "(pd.Series(names))\n",
    "#type is object"
   ]
  },
  {
   "cell_type": "code",
   "execution_count": 3,
   "id": "6aa0f831-cc64-4305-ab82-2a1bdf25034c",
   "metadata": {},
   "outputs": [
    {
     "data": {
      "text/plain": [
       "0    10\n",
       "1    20\n",
       "2    22\n",
       "3    23\n",
       "4    56\n",
       "5    56\n",
       "dtype: int64"
      ]
     },
     "execution_count": 3,
     "metadata": {},
     "output_type": "execute_result"
    }
   ],
   "source": [
    "#intergers\n",
    "marks=[10,20,22,23,56,56]\n",
    "(pd.Series(marks))"
   ]
  },
  {
   "cell_type": "code",
   "execution_count": null,
   "id": "ecb98324-195b-463b-bece-36357e13f9c2",
   "metadata": {},
   "outputs": [],
   "source": [
    "#custom index\n",
    "marks=[97,98,99,99,91]\n",
    "sub=['python','fsd','toc','dm','coa']\n",
    "pd.Series(marks,index=sub)"
   ]
  },
  {
   "cell_type": "code",
   "execution_count": 5,
   "id": "3eb325ab-2985-4deb-b812-cc649de20725",
   "metadata": {},
   "outputs": [
    {
     "data": {
      "text/plain": [
       "python    97\n",
       "fsd       98\n",
       "toc       99\n",
       "dm        99\n",
       "coa       91\n",
       "Name: JAY, dtype: int64"
      ]
     },
     "execution_count": 5,
     "metadata": {},
     "output_type": "execute_result"
    }
   ],
   "source": [
    "#setting a name\n",
    "marks=pd.Series(marks,index=sub,name=\"JAY\")\n",
    "marks"
   ]
  },
  {
   "cell_type": "code",
   "execution_count": 6,
   "id": "e86e790f-a83c-4736-a5a3-8fee448fd3e2",
   "metadata": {},
   "outputs": [
    {
     "name": "stdout",
     "output_type": "stream",
     "text": [
      "python    97\n",
      "fsd       98\n",
      "toc       99\n",
      "dm        99\n",
      "coa       91\n",
      "Name: JAY, dtype: int64\n"
     ]
    }
   ],
   "source": [
    "#Ganrate series from dict\n",
    "s={\n",
    "    'fsd':97,\n",
    "    'python':77,\n",
    "    'dm':88,\n",
    "    'coa':55\n",
    "}\n",
    "makrs = pd.Series(marks,name=\"jay's Score\")\n",
    "print(marks)\n",
    "#datatype int64"
   ]
  },
  {
   "cell_type": "code",
   "execution_count": 7,
   "id": "9b6b2d20-c09b-4240-980a-3bd4b71297ae",
   "metadata": {},
   "outputs": [
    {
     "data": {
      "text/plain": [
       "a    1\n",
       "b    2\n",
       "c    3\n",
       "dtype: int64"
      ]
     },
     "execution_count": 7,
     "metadata": {},
     "output_type": "execute_result"
    }
   ],
   "source": [
    "d={'a':1,'b':2,'c':3}\n",
    "s=pd.Series(data=d,index=['a','b','c'])\n",
    "s"
   ]
  },
  {
   "cell_type": "code",
   "execution_count": 8,
   "id": "71f489b6-1187-43b8-8c84-b4fd8af95108",
   "metadata": {},
   "outputs": [
    {
     "data": {
      "text/plain": [
       "x   NaN\n",
       "y   NaN\n",
       "z   NaN\n",
       "dtype: float64"
      ]
     },
     "execution_count": 8,
     "metadata": {},
     "output_type": "execute_result"
    }
   ],
   "source": [
    "d={'a':1,'b':2,'c':3}\n",
    "s=pd.Series(data=d,index=['x','y','z'])\n",
    "s"
   ]
  },
  {
   "cell_type": "code",
   "execution_count": 9,
   "id": "126c421c",
   "metadata": {
    "scrolled": true
   },
   "outputs": [
    {
     "ename": "SyntaxError",
     "evalue": "invalid syntax (2715574122.py, line 1)",
     "output_type": "error",
     "traceback": [
      "\u001b[1;36m  Cell \u001b[1;32mIn[9], line 1\u001b[1;36m\u001b[0m\n\u001b[1;33m    s=pd.\u001b[0m\n\u001b[1;37m         ^\u001b[0m\n\u001b[1;31mSyntaxError\u001b[0m\u001b[1;31m:\u001b[0m invalid syntax\n"
     ]
    }
   ],
   "source": []
  },
  {
   "cell_type": "markdown",
   "id": "5fc2886e-8dfa-4bd4-a63f-aad8de7b7963",
   "metadata": {},
   "source": []
  },
  {
   "cell_type": "code",
   "execution_count": null,
   "id": "46443f49-cb59-4e73-a58b-f23619a980d9",
   "metadata": {},
   "outputs": [],
   "source": []
  },
  {
   "cell_type": "code",
   "execution_count": null,
   "id": "9dfcdbfe-b74e-452a-80d6-1beb69449680",
   "metadata": {},
   "outputs": [],
   "source": []
  },
  {
   "cell_type": "code",
   "execution_count": null,
   "id": "9d2d0c62-542e-48d1-88b0-2e2685581fa3",
   "metadata": {},
   "outputs": [],
   "source": []
  },
  {
   "cell_type": "code",
   "execution_count": null,
   "id": "7a3ce327-974e-4b79-8e70-aeaee7ab5174",
   "metadata": {},
   "outputs": [],
   "source": []
  }
 ],
 "metadata": {
  "kernelspec": {
   "display_name": "Python 3 (ipykernel)",
   "language": "python",
   "name": "python3"
  },
  "language_info": {
   "codemirror_mode": {
    "name": "ipython",
    "version": 3
   },
   "file_extension": ".py",
   "mimetype": "text/x-python",
   "name": "python",
   "nbconvert_exporter": "python",
   "pygments_lexer": "ipython3",
   "version": "3.11.5"
  }
 },
 "nbformat": 4,
 "nbformat_minor": 5
}
