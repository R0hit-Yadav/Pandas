{
 "cells": [
  {
   "cell_type": "code",
   "execution_count": 2,
   "id": "5e8b45aa-7add-4a72-9025-15178c39933a",
   "metadata": {},
   "outputs": [],
   "source": [
    "import numpy as np\n",
    "import pandas as pd"
   ]
  },
  {
   "cell_type": "code",
   "execution_count": 3,
   "id": "e28d7e99-85f4-428a-bde2-2a5358485146",
   "metadata": {},
   "outputs": [
    {
     "data": {
      "text/plain": [
       "0    rohit\n",
       "1      jay\n",
       "2      dev\n",
       "3    urval\n",
       "4    parth\n",
       "dtype: object"
      ]
     },
     "execution_count": 3,
     "metadata": {},
     "output_type": "execute_result"
    }
   ],
   "source": [
    "names =['rohit','jay','dev','urval','parth']\n",
    "(pd.Series(names))\n",
    "#type is object"
   ]
  },
  {
   "cell_type": "code",
   "execution_count": 4,
   "id": "6aa0f831-cc64-4305-ab82-2a1bdf25034c",
   "metadata": {},
   "outputs": [
    {
     "data": {
      "text/plain": [
       "0    10\n",
       "1    20\n",
       "2    22\n",
       "3    23\n",
       "4    56\n",
       "5    56\n",
       "dtype: int64"
      ]
     },
     "execution_count": 4,
     "metadata": {},
     "output_type": "execute_result"
    }
   ],
   "source": [
    "#intergers\n",
    "marks=[10,20,22,23,56,56]\n",
    "(pd.Series(marks))"
   ]
  },
  {
   "cell_type": "code",
   "execution_count": 5,
   "id": "8061367d-5a93-4992-9d11-6b6d3e5706d8",
   "metadata": {},
   "outputs": [
    {
     "data": {
      "text/plain": [
       "python    97\n",
       "fsd       98\n",
       "toc       99\n",
       "dm        99\n",
       "coa       91\n",
       "dtype: int64"
      ]
     },
     "execution_count": 5,
     "metadata": {},
     "output_type": "execute_result"
    }
   ],
   "source": [
    "#custom index\n",
    "marks=[97,98,99,99,91]\n",
    "sub=['python','fsd','toc','dm','coa']\n",
    "pd.Series(marks,index=sub)"
   ]
  },
  {
   "cell_type": "code",
   "execution_count": 8,
   "id": "3eb325ab-2985-4deb-b812-cc649de20725",
   "metadata": {},
   "outputs": [
    {
     "data": {
      "text/plain": [
       "python    97\n",
       "fsd       98\n",
       "toc       99\n",
       "dm        99\n",
       "coa       91\n",
       "Name: JAY, dtype: int64"
      ]
     },
     "execution_count": 8,
     "metadata": {},
     "output_type": "execute_result"
    }
   ],
   "source": [
    "#setting a name\n",
    "marks=pd.Series(marks,index=sub,name=\"JAY\")\n",
    "marks"
   ]
  },
  {
   "cell_type": "code",
   "execution_count": 11,
   "id": "e86e790f-a83c-4736-a5a3-8fee448fd3e2",
   "metadata": {},
   "outputs": [
    {
     "name": "stdout",
     "output_type": "stream",
     "text": [
      "python    97\n",
      "fsd       98\n",
      "toc       99\n",
      "dm        99\n",
      "coa       91\n",
      "Name: JAY, dtype: int64\n"
     ]
    }
   ],
   "source": [
    "#Ganrate series from dict\n",
    "s={\n",
    "    'fsd':97,\n",
    "    'python':77,\n",
    "    'dm':88,\n",
    "    'coa':55\n",
    "}\n",
    "makrs = pd.Series(marks,name=\"jay's Score\")\n",
    "print(marks)\n",
    "#datatype int64"
   ]
  },
  {
   "cell_type": "code",
   "execution_count": 12,
   "id": "9b6b2d20-c09b-4240-980a-3bd4b71297ae",
   "metadata": {},
   "outputs": [
    {
     "data": {
      "text/plain": [
       "a    1\n",
       "b    2\n",
       "c    3\n",
       "dtype: int64"
      ]
     },
     "execution_count": 12,
     "metadata": {},
     "output_type": "execute_result"
    }
   ],
   "source": [
    "d={'a':1,'b':2,'c':3}\n",
    "s=pd.Series(data=d,index=['a','b','c'])\n",
    "s"
   ]
  },
  {
   "cell_type": "code",
   "execution_count": null,
   "id": "71f489b6-1187-43b8-8c84-b4fd8af95108",
   "metadata": {},
   "outputs": [],
   "source": []
  }
 ],
 "metadata": {
  "kernelspec": {
   "display_name": "Python 3 (ipykernel)",
   "language": "python",
   "name": "python3"
  },
  "language_info": {
   "codemirror_mode": {
    "name": "ipython",
    "version": 3
   },
   "file_extension": ".py",
   "mimetype": "text/x-python",
   "name": "python",
   "nbconvert_exporter": "python",
   "pygments_lexer": "ipython3",
   "version": "3.11.5"
  }
 },
 "nbformat": 4,
 "nbformat_minor": 5
}
